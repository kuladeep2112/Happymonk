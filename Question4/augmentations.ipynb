{
  "nbformat": 4,
  "nbformat_minor": 0,
  "metadata": {
    "colab": {
      "provenance": []
    },
    "kernelspec": {
      "name": "python3",
      "display_name": "Python 3"
    },
    "language_info": {
      "name": "python"
    },
    "gpuClass": "standard"
  },
  "cells": [
    {
      "cell_type": "code",
      "execution_count": 29,
      "metadata": {
        "id": "wzA5db5W6PIZ"
      },
      "outputs": [],
      "source": [
        "import random\n",
        "import cv2\n",
        "import matplotlib.pyplot as plt\n",
        "from typing_extensions import Concatenate\n",
        "import albumentations as A\n",
        "import os"
      ]
    },
    {
      "cell_type": "code",
      "source": [
        "langs=['Kannada','Tamil','Marathi','Malayalam']\n",
        "count=0\n",
        "for i in langs:\n",
        "  for img in os.listdir('/content/original plates/'+i):\n",
        "    if img!='.DS_Store' and img!='.ipynb_checkpoints':\n",
        "      count+=1\n",
        "      image =cv2.imread('/content/original plates/'+i+'/'+img)\n",
        "      transform = A.HorizontalFlip(p=0.5)\n",
        "      random.seed(7)\n",
        "      augmented_image = transform(image=image)['image']\n",
        "      cv2.imwrite('/content/Augmentedplates/'+i+'/image'+str(count)+'.jpg',augmented_image)\n",
        "      count+=1\n",
        "      transform = A.ShiftScaleRotate(p=0.5)\n",
        "      random.seed(7)\n",
        "      augmented_image = transform(image=image)['image']\n",
        "      cv2.imwrite('/content/Augmentedplates/'+i+'/image'+str(count)+'.jpg',augmented_image)\n",
        "      count+=1\n",
        "      transform = A.CLAHE()\n",
        "      random.seed(7)\n",
        "      augmented_image = transform(image=image)['image']\n",
        "      cv2.imwrite('/content/Augmentedplates/'+i+'/image'+str(count)+'.jpg',augmented_image)\n",
        "      count+=1\n",
        "      transform = A.RandomRotate90()\n",
        "      random.seed(7)\n",
        "      augmented_image = transform(image=image)['image']\n",
        "      cv2.imwrite('/content/Augmentedplates/'+i+'/image'+str(count)+'.jpg',augmented_image)\n",
        "      count+=1\n",
        "      transform = A.Transpose()\n",
        "      random.seed(7)\n",
        "      augmented_image = transform(image=image)['image']\n",
        "      cv2.imwrite('/content/Augmentedplates/'+i+'/image'+str(count)+'.jpg',augmented_image)\n",
        "count"
      ],
      "metadata": {
        "colab": {
          "base_uri": "https://localhost:8080/"
        },
        "id": "4eX_HKrrGcNV",
        "outputId": "3dbf510d-3406-4f92-ee72-abc79e3ed4c3"
      },
      "execution_count": 60,
      "outputs": [
        {
          "output_type": "execute_result",
          "data": {
            "text/plain": [
              "245"
            ]
          },
          "metadata": {},
          "execution_count": 60
        }
      ]
    },
    {
      "cell_type": "code",
      "source": [
        "langs=['Kannada','Tamil','Marathi','Malayalam']\n",
        "count=245\n",
        "for i in langs:\n",
        "  for img in os.listdir('/content/original plates/'+i):\n",
        "    if img!='.DS_Store' and img!='.ipynb_checkpoints':\n",
        "      count+=1\n",
        "      image =cv2.imread('/content/original plates/'+i+'/'+img)\n",
        "      transform = A.UnsharpMask(blur_limit=(3, 7), sigma_limit=0.0, alpha=(0.2, 0.5), threshold=10, always_apply=False, p=0.5)\n",
        "      random.seed(7)\n",
        "      augmented_image = transform(image=image)['image']\n",
        "      cv2.imwrite('/content/Augmentedplates/'+i+'/image'+str(count)+'.jpg',augmented_image)\n",
        "      count+=1\n",
        "      transform = A.Sharpen(alpha=(0.2, 0.5), lightness=(0.5, 1.0), always_apply=False, p=0.5)\n",
        "      random.seed(7)\n",
        "      augmented_image = transform(image=image)['image']\n",
        "      cv2.imwrite('/content/Augmentedplates/'+i+'/image'+str(count)+'.jpg',augmented_image)\n",
        "      count+=1\n",
        "      transform = A.HueSaturationValue(hue_shift_limit=20, sat_shift_limit=30, val_shift_limit=20, always_apply=False, p=0.5)\n",
        "      random.seed(7)\n",
        "      augmented_image = transform(image=image)['image']\n",
        "      cv2.imwrite('/content/Augmentedplates/'+i+'/image'+str(count)+'.jpg',augmented_image)\n",
        "      count+=1\n",
        "      transform = A.Equalize(mode='cv', by_channels=True, mask=None, mask_params=(), always_apply=False, p=0.5)\n",
        "      random.seed(7)\n",
        "      augmented_image = transform(image=image)['image']\n",
        "      cv2.imwrite('/content/Augmentedplates/'+i+'/image'+str(count)+'.jpg',augmented_image)\n",
        "      count+=1\n",
        "      transform = A.Emboss(alpha=(0.2, 0.5), strength=(0.2, 0.7), always_apply=False, p=0.5)\n",
        "      random.seed(7)\n",
        "      augmented_image = transform(image=image)['image']\n",
        "      cv2.imwrite('/content/Augmentedplates/'+i+'/image'+str(count)+'.jpg',augmented_image)\n",
        "      count+=1\n",
        "      transform = A.Superpixels(p_replace=0.1, n_segments=100, max_size=128, interpolation=1, always_apply=False, p=0.5)\n",
        "      random.seed(7)\n",
        "      augmented_image = transform(image=image)['image']\n",
        "      cv2.imwrite('/content/Augmentedplates/'+i+'/image'+str(count)+'.jpg',augmented_image)\n",
        "count"
      ],
      "metadata": {
        "colab": {
          "base_uri": "https://localhost:8080/"
        },
        "id": "nfdiRZtONmK4",
        "outputId": "c179f4bb-ad10-4787-fb0b-8f5020fbd904"
      },
      "execution_count": 62,
      "outputs": [
        {
          "output_type": "stream",
          "name": "stderr",
          "text": [
            "/usr/local/lib/python3.8/dist-packages/albumentations/augmentations/functional.py:1856: FutureWarning: skimage.measure.label's indexing starts from 0. In future version it will start from 1. To disable this warning, explicitely set the `start_label` parameter to 1.\n",
            "  segments = skimage.segmentation.slic(image, n_segments=n_segments, compactness=10)\n"
          ]
        },
        {
          "output_type": "execute_result",
          "data": {
            "text/plain": [
              "539"
            ]
          },
          "metadata": {},
          "execution_count": 62
        }
      ]
    },
    {
      "cell_type": "code",
      "source": [
        "!zip -r /content/augmentation.zip /content/Augmentedplates"
      ],
      "metadata": {
        "id": "RAdQ4LmISOv-"
      },
      "execution_count": null,
      "outputs": []
    }
  ]
}